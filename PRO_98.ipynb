{
  "nbformat": 4,
  "nbformat_minor": 0,
  "metadata": {
    "colab": {
      "provenance": [],
      "authorship_tag": "ABX9TyMgOazst17iPtggl4pjAAqL",
      "include_colab_link": true
    },
    "kernelspec": {
      "name": "python3",
      "display_name": "Python 3"
    },
    "language_info": {
      "name": "python"
    }
  },
  "cells": [
    {
      "cell_type": "markdown",
      "metadata": {
        "id": "view-in-github",
        "colab_type": "text"
      },
      "source": [
        "<a href=\"https://colab.research.google.com/github/Xander50/PRO-98/blob/main/PRO_98.ipynb\" target=\"_parent\"><img src=\"https://colab.research.google.com/assets/colab-badge.svg\" alt=\"Open In Colab\"/></a>"
      ]
    },
    {
      "cell_type": "code",
      "execution_count": 6,
      "metadata": {
        "colab": {
          "base_uri": "https://localhost:8080/"
        },
        "id": "sokNRe3LzT42",
        "outputId": "4941e7ec-64ba-4182-f706-6a17c50c8e3d"
      },
      "outputs": [
        {
          "output_type": "stream",
          "name": "stdout",
          "text": [
            "Enter lower range limit:200\n",
            "Enter upper range limit:500\n",
            "Enter the number to be divided by:20\n",
            "200\n",
            "220\n",
            "240\n",
            "260\n",
            "280\n",
            "300\n",
            "320\n",
            "340\n",
            "360\n",
            "380\n",
            "400\n",
            "420\n",
            "440\n",
            "460\n",
            "480\n",
            "500\n"
          ]
        }
      ],
      "source": [
        "a=int(input(\"Enter lower range limit:\"))\n",
        "b=int(input(\"Enter upper range limit:\"))\n",
        "c=int(input(\"Enter the number to be divided by:\"))\n",
        "\n",
        "for i in range(a,b+1):\n",
        "  if(i%c==0):\n",
        "    print(i)"
      ]
    }
  ]
}